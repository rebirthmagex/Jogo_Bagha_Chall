{
  "nbformat": 4,
  "nbformat_minor": 0,
  "metadata": {
    "colab": {
      "provenance": [],
      "authorship_tag": "ABX9TyPkN/+WXjX7rbZ9f9f5Lgf9",
      "include_colab_link": true
    },
    "kernelspec": {
      "name": "python3",
      "display_name": "Python 3"
    },
    "language_info": {
      "name": "python"
    }
  },
  "cells": [
    {
      "cell_type": "markdown",
      "metadata": {
        "id": "view-in-github",
        "colab_type": "text"
      },
      "source": [
        "<a href=\"https://colab.research.google.com/github/rebirthmagex/Jogo_Bagha_Chall/blob/main/point.ipynb\" target=\"_parent\"><img src=\"https://colab.research.google.com/assets/colab-badge.svg\" alt=\"Open In Colab\"/></a>"
      ]
    },
    {
      "cell_type": "code",
      "execution_count": 1,
      "metadata": {
        "id": "RBZPCL7rmErI"
      },
      "outputs": [],
      "source": [
        "import os\n",
        "from contextlib import suppress\n",
        "from pprint import pprint\n",
        "\n",
        "import math\n",
        "from enum import Enum\n",
        "from copy import deepcopy\n",
        "from collections import deque\n",
        "\n",
        "import ipywidgets as widgets\n",
        "from IPython.display import display, clear_output"
      ]
    },
    {
      "cell_type": "code",
      "execution_count": 2,
      "metadata": {
        "id": "Nr6GAS3Itu46"
      },
      "outputs": [],
      "source": [
        "class Point:\n",
        "  \"\"\"A point on the board\"\"\"\n",
        "\n",
        "  # A1 = top left, E5 = bottom right\n",
        "  # A1 = point[0], B1 = point[1], E5 = point[24]\n",
        "  #   A   B   C   D   E\n",
        "  # 1 T               T\n",
        "  #   | \\ | / | \\ | / |\n",
        "  # 2\n",
        "  #   | / | \\ | / | \\ |\n",
        "  # 3\n",
        "  #   | \\ | / | \\ | / |\n",
        "  # 4\n",
        "  #   | / | \\ | / | \\ |\n",
        "  # 5 T               T\n",
        "\n",
        "  # Mapeamento de coordenadas para índices e vice-versa\n",
        "  COORD_TO_INDEX = {\n",
        "      'A1': 0, 'B1': 1, 'C1': 2, 'D1': 3, 'E1': 4,\n",
        "      'A2': 5, 'B2': 6, 'C2': 7, 'D2': 8, 'E2': 9,\n",
        "      'A3': 10, 'B3': 11, 'C3': 12, 'D3': 13, 'E3': 14,\n",
        "      'A4': 15, 'B4': 16, 'C4': 17, 'D4': 18, 'E4': 19,\n",
        "      'A5': 20, 'B5': 21, 'C5': 22, 'D5': 23, 'E5': 24,\n",
        "  }\n",
        "\n",
        "  INDEX_TO_COORD = {v: k for k, v in COORD_TO_INDEX.items()}\n",
        "\n",
        "  # Mapeamento de coordenadas para coordenadas do plano cartesiano e vice-versa\n",
        "  COORD_TO_CARTESIAN_PLANE = {\n",
        "      'A1': (0, 0), 'B1': (0, 1), 'C1': (0, 2), 'D1': (0, 3), 'E1': (0, 4),\n",
        "      'A2': (1, 0), 'B2': (1, 1), 'C2': (1, 2), 'D2': (1, 3), 'E2': (1, 4),\n",
        "      'A3': (2, 0), 'B3': (2, 1), 'C3': (2, 2), 'D3': (2, 3), 'E3': (2, 4),\n",
        "      'A4': (3, 0), 'B4': (3, 1), 'C4': (3, 2), 'D4': (3, 3), 'E4': (3, 4),\n",
        "      'A5': (4, 0), 'B5': (4, 1), 'C5': (4, 2), 'D5': (4, 3), 'E5': (4, 4),\n",
        "  }\n",
        "\n",
        "  CARTESIAN_PLANE_TO_COORD = {v: k for k, v in COORD_TO_CARTESIAN_PLANE.items()}\n",
        "\n",
        "  # Direções possíveis de movimento\n",
        "  DIRECTIONS = [\n",
        "      (-1, 0), (1, 0), (0, -1), (0, 1),  # Movimentos verticais e horizontais\n",
        "      (-1, -1), (-1, 1), (1, -1), (1, 1)  # Movimentos diagonais\n",
        "  ]\n",
        "\n",
        "  # Definindo conexões de movimentos e capturas usando coordenadas\n",
        "  _move_connections = {\n",
        "      'A1': ['B1', 'A2', 'B2'],\n",
        "      'B1': ['A1', 'C1', 'A2', 'B2', 'C2'],\n",
        "      'C1': ['B1', 'D1', 'B2', 'C2', 'D2'],\n",
        "      'D1': ['C1', 'E1', 'C2', 'D2', 'E2'],\n",
        "      'E1': ['D1', 'E2', 'D2'],\n",
        "\n",
        "      'A2': ['A1', 'A3', 'B2', 'B1', 'B3'],\n",
        "      'B2': ['B1', 'B3', 'A2', 'C2', 'A1', 'C1', 'A3','C3'],\n",
        "      'C2': ['C1', 'C3', 'B2', 'D2', 'B1', 'D1', 'B3','D3'],\n",
        "      'D2': ['D1', 'D3', 'C2', 'E2', 'C1', 'E1', 'C3','E3'],\n",
        "      'E2': ['E1', 'E3', 'D2', 'D1', 'D3'],\n",
        "\n",
        "      'A3': ['A2', 'A4', 'B3', 'B2', 'B4'],\n",
        "      'B3': ['B2', 'B4', 'A3', 'C3', 'A2', 'C2', 'A4','C4'],\n",
        "      'C3': ['C2', 'C4', 'B3', 'D3', 'B2', 'D2', 'B4','D4'],\n",
        "      'D3': ['D2', 'D4', 'C3', 'E3', 'C2', 'E2', 'C4','E4'],\n",
        "      'E3': ['E2', 'E4', 'D3', 'D2', 'D4'],\n",
        "\n",
        "      'A4': ['A3', 'A5', 'B4', 'B3', 'B5'],\n",
        "      'B4': ['B3', 'B5', 'A4', 'C4', 'A3', 'C3', 'A5','C5'],\n",
        "      'C4': ['C3', 'C5', 'B4', 'D4', 'B3', 'D3', 'B5','D5'],\n",
        "      'D4': ['D3', 'D5', 'C4', 'E4', 'C3', 'E3', 'C5','E5'],\n",
        "      'E4': ['E3', 'E5', 'D4'],\n",
        "\n",
        "      'A5': ['A4', 'B5', 'B4'],\n",
        "      'B5': ['B4', 'A5', 'C5', 'A4', 'C4'],\n",
        "      'C5': ['C4', 'D5', 'B5', 'B4', 'D4'],\n",
        "      'D5': ['D4', 'E5', 'C5', 'C4', 'E4'],\n",
        "      'E5': ['D4','D5', 'E4'],\n",
        "  }\n",
        "\n",
        "  _capture_connections = {\n",
        "      'A1': ['C1', 'A3', 'C3'],\n",
        "      'B1': ['D1', 'B3', 'D3'],\n",
        "      'C1': ['A1', 'E1', 'A3', 'C3', 'E3'],\n",
        "      'D1': ['B1', 'D3', 'B3'],\n",
        "      'E1': ['C1', 'E3', 'C3'],\n",
        "\n",
        "      'A2': ['C2', 'A4', 'C4'],\n",
        "      'B2': ['D2', 'B4', 'D4'],\n",
        "      'C2': ['A2', 'E2', 'A4', 'C4', 'E4'],\n",
        "      'D2': ['B2', 'D4', 'B4'],\n",
        "      'E2': ['C2', 'E4', 'C4'],\n",
        "\n",
        "      'A3': ['C3', 'A1', 'C1', 'A5', 'C1', 'C5'],\n",
        "      'B3': ['D3', 'B1', 'D1', 'B5'],\n",
        "      'C3': ['A3', 'E3', 'A1', 'C1', 'E1', 'A5', 'C5', 'E5'],\n",
        "      'D3': ['B3', 'D5', 'B1', 'D1', 'B5'],\n",
        "      'E3': ['C3', 'E5', 'C1', 'E1', 'C5'],\n",
        "\n",
        "      'A4': ['C4', 'A2', 'C2'],\n",
        "      'B4': ['D4', 'B2', 'D2', 'D4'],\n",
        "      'C4': ['A4', 'E4', 'A2', 'C2', 'E2'],\n",
        "      'D4': ['B2', 'B4', 'D2'],\n",
        "      'E4': ['C4', 'E2', 'C2'],\n",
        "\n",
        "      'A5': ['C5', 'A3', 'C3'],\n",
        "      'B5': ['D5', 'B3', 'D3'],\n",
        "      'C5': ['A5', 'E5', 'A3', 'C3', 'E3'],\n",
        "      'D5': ['B5', 'D3', 'B3'],\n",
        "      'E5': ['C5', 'E3', 'C3'],\n",
        "  }\n",
        "\n",
        "  _dead_connections = {\n",
        "      'B1': ['A1', 'C1'],\n",
        "      'C1': ['B1', 'D1'],\n",
        "      'D1': ['C1', 'E1'],\n",
        "\n",
        "      'A2': ['A1', 'A3'],\n",
        "      'B2': ['A1', 'B1', 'C1', 'A2', 'C2', 'A3', 'B3', 'C3'],\n",
        "      'C2': ['B1', 'C1', 'D1', 'B2', 'D2', 'B3', 'C3', 'D3'],\n",
        "      'D2': ['C1', 'D1', 'E1', 'C2', 'E2', 'C3', 'D3', 'E3'],\n",
        "      'E2': ['E1', 'E3'],\n",
        "\n",
        "      'A3': ['A2', 'A4'],\n",
        "      'B3': ['A2', 'B2', 'C2', 'A3', 'C3', 'A4', 'B4', 'C4'],\n",
        "      'C3': ['B2', 'C2', 'D2', 'B3', 'D3', 'B4', 'C4', 'D4'],\n",
        "      'D3': ['C2', 'D2', 'E2', 'C4', 'E4', 'C4', 'D4', 'E4'],\n",
        "      'E3': ['E2', 'E4'],\n",
        "\n",
        "      'A4': ['A3', 'A5'],\n",
        "      'B4': ['A3', 'B3', 'C3', 'A4', 'C4', 'A5', 'B5', 'C5'],\n",
        "      'C4': ['B3', 'C3', 'D3', 'B4', 'D4', 'B5', 'C5', 'D5'],\n",
        "      'D4': ['C3', 'D3', 'E3', 'C4', 'E4', 'C5', 'D5', 'E5'],\n",
        "      'E4': ['E3', 'E5'],\n",
        "\n",
        "      'B5': ['A5', 'C5'],\n",
        "      'C5': ['B5', 'C5'],\n",
        "      'D5': ['C5', 'E5']\n",
        "  }\n",
        "\n",
        "  @classmethod\n",
        "  def get_connections(cls, position):\n",
        "      \"\"\"\n",
        "      Retorna as conexões de uma posição.\n",
        "      \"\"\"\n",
        "      return cls._move_connections.get(position, []) + cls._capture_connections.get(position, [])"
      ]
    },
    {
      "cell_type": "markdown",
      "source": [
        "#Testes"
      ],
      "metadata": {
        "id": "JVpoC3NEw184"
      }
    },
    {
      "cell_type": "code",
      "source": [
        "#posições o tigre tem que estar para ameaçar a cabra\n",
        "Point._dead_connections['A2']"
      ],
      "metadata": {
        "colab": {
          "base_uri": "https://localhost:8080/"
        },
        "id": "pAo8pGhoxbUT",
        "outputId": "da46d172-7091-4441-a351-025c0d964088"
      },
      "execution_count": 13,
      "outputs": [
        {
          "output_type": "execute_result",
          "data": {
            "text/plain": [
              "['A1', 'A3']"
            ]
          },
          "metadata": {},
          "execution_count": 13
        }
      ]
    },
    {
      "cell_type": "code",
      "source": [
        "#posições para as quais uma peça pode se mover\n",
        "Point._move_connections['A2']"
      ],
      "metadata": {
        "colab": {
          "base_uri": "https://localhost:8080/"
        },
        "id": "LVW6W2mIxoX6",
        "outputId": "ba2f0226-9d53-43ea-bad6-a594409c4ba8"
      },
      "execution_count": 14,
      "outputs": [
        {
          "output_type": "execute_result",
          "data": {
            "text/plain": [
              "['A1', 'A3', 'B2', 'B1', 'B3']"
            ]
          },
          "metadata": {},
          "execution_count": 14
        }
      ]
    },
    {
      "cell_type": "code",
      "source": [
        "#posições que um tigre pode pular para capturar uma cabra\n",
        "Point._capture_connections['A2']"
      ],
      "metadata": {
        "colab": {
          "base_uri": "https://localhost:8080/"
        },
        "id": "LJ__4DbKxBfF",
        "outputId": "7c9a67c2-f027-41a9-8423-162bdf1c7add"
      },
      "execution_count": 15,
      "outputs": [
        {
          "output_type": "execute_result",
          "data": {
            "text/plain": [
              "['C2', 'A4', 'C4']"
            ]
          },
          "metadata": {},
          "execution_count": 15
        }
      ]
    },
    {
      "cell_type": "code",
      "source": [
        "#todas as posições que estão conectadas uma determinada posição.\n",
        "#essas posições incluem as posições de movimento e de captura\n",
        "Point.get_connections('A2')"
      ],
      "metadata": {
        "colab": {
          "base_uri": "https://localhost:8080/"
        },
        "id": "udORgLNxw6ie",
        "outputId": "51be9de1-d806-468a-aecf-4e9613240167"
      },
      "execution_count": 16,
      "outputs": [
        {
          "output_type": "execute_result",
          "data": {
            "text/plain": [
              "['A1', 'A3', 'B2', 'B1', 'B3', 'C2', 'A4', 'C4']"
            ]
          },
          "metadata": {},
          "execution_count": 16
        }
      ]
    },
    {
      "cell_type": "code",
      "source": [
        "#coordenada geográfica para posição do tabuleiro\n",
        "Point.CARTESIAN_PLANE_TO_COORD[(1,0)]"
      ],
      "metadata": {
        "colab": {
          "base_uri": "https://localhost:8080/",
          "height": 35
        },
        "id": "TiJCeuR8zTrQ",
        "outputId": "914cc8ee-55fb-441c-9e09-167957d7d63a"
      },
      "execution_count": 24,
      "outputs": [
        {
          "output_type": "execute_result",
          "data": {
            "text/plain": [
              "'A2'"
            ],
            "application/vnd.google.colaboratory.intrinsic+json": {
              "type": "string"
            }
          },
          "metadata": {},
          "execution_count": 24
        }
      ]
    },
    {
      "cell_type": "code",
      "source": [
        "#posição do tabuleiro para coordenada geográfica\n",
        "Point.COORD_TO_CARTESIAN_PLANE['A2']"
      ],
      "metadata": {
        "colab": {
          "base_uri": "https://localhost:8080/"
        },
        "id": "vKpnhKTKzi1w",
        "outputId": "f40af67f-b587-4749-fd2e-7b74dffdd9ff"
      },
      "execution_count": 23,
      "outputs": [
        {
          "output_type": "execute_result",
          "data": {
            "text/plain": [
              "(1, 0)"
            ]
          },
          "metadata": {},
          "execution_count": 23
        }
      ]
    }
  ]
}